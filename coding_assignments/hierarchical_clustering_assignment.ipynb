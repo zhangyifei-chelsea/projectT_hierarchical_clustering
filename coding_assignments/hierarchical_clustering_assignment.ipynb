{
 "cells": [
  {
   "cell_type": "markdown",
   "metadata": {
    "id": "OvNxxqSEdGI9"
   },
   "source": [
    "# 16ML Week 6: Hierarchical Clustering\n",
    "\n",
    "In this assignment, we will explore the theory and application of *hierarchical clustering*, a clustering algorithm that splits or joins clusters based on a flexible cluster similarlity metric until a stopping condition is satisfied.\n",
    "\n",
    "## Algorithm Overview\n",
    "\n",
    "Hierarchical clustering creates a tree-like structure that allows you to assign a data point to a cluster. The tree can be created from the bottom up, or from the top down. Each of these methods corresponds to a variant of hierarchical clustering; aptly named *agglomerative* and *divisive* clustering, respectively. When using the bottom-up approach, the algorithm starts with each data point in its own cluster, and successively merges the closest two clusters into one cluster until it has reached the desired number of clusters. The top-down approach does the reverse: it splits each cluster into two until the cluster can no longer be divided.\n",
    "\n",
    "In the remainder of this problem set, we will\n",
    "1. observe a demo of hierarchical clustering\n",
    "2. implement each variant of hirarchical clustering, and visualize how the algorithms work\n",
    "3. develop an intuition for setting hyperparameters using sklearn's [AgglomerativeClustering](https://scikit-learn.org/stable/modules/generated/sklearn.cluster.AgglomerativeClustering.html#sklearn.cluster.AgglomerativeClustering) or scipy's [linkage](https://docs.scipy.org/doc/scipy/reference/generated/scipy.cluster.hierarchy.linkage.html) function.\n",
    "4. apply hierarchical clustering in real world settings"
   ]
  },
  {
   "cell_type": "markdown",
   "metadata": {
    "id": "8vNjAiyRm-Yu"
   },
   "source": [
    "# Part 1: Demo\n",
    "\n",
    "In this section, we'll look at some example datasets and see how K-Means and hierarchical clustering perform on these datasets to gain an intuition for the strengths and weaknesses of each algorithm."
   ]
  },
  {
   "cell_type": "code",
   "execution_count": null,
   "metadata": {
    "cellView": "form",
    "colab": {
     "base_uri": "https://localhost:8080/",
     "height": 297
    },
    "id": "pvI4aV8iDEoL",
    "outputId": "40313555-a4b0-4c69-f677-0cb2362894bc",
    "pycharm": {
     "is_executing": false
    }
   },
   "outputs": [],
   "source": [
    "#@title Sample datasets\n",
    "import numpy as np\n",
    "import matplotlib.pyplot as plt\n",
    "import seaborn as sns\n",
    "from sklearn.datasets import make_blobs, make_circles, make_classification, make_moons\n",
    "\n",
    "COLORS = np.array(sns.color_palette())\n",
    "\n",
    "class Dataset:\n",
    "    def __init__(self, data, title, n_clusters):\n",
    "        self.data = data\n",
    "        self.data.flags.writeable = False\n",
    "        self.title = title\n",
    "        self.n_clusters = n_clusters\n",
    "\n",
    "    @property\n",
    "    def x(self):\n",
    "        return self.data[:, 0]\n",
    "\n",
    "    @property\n",
    "    def y(self):\n",
    "        return self.data[:, 1]\n",
    "\n",
    "    def plot(self, axis, coloraxis=None):\n",
    "        axis.scatter(self.x, self.y, c=coloraxis)\n",
    "        axis.set_title(f'{self.title} Dataset')\n",
    "\n",
    "    def plot_clusters(self, clusterer, axis):\n",
    "        pred_clusters = clusterer.fit_predict(self.data)\n",
    "        self.plot(axis, coloraxis=COLORS[pred_clusters])\n",
    "    \n",
    "\n",
    "blobs_dataset = Dataset(make_blobs(centers=3, random_state=42)[0], 'Blobs', 3)\n",
    "circles_dataset = Dataset(make_circles(noise=0.09, factor=.2, random_state=42)[0], 'Circles', 2)\n",
    "lines_dataset = Dataset(make_classification(n_features=2, n_redundant=0, random_state=4242)[0], 'Lines', 3)\n",
    "moons_dataset = Dataset(make_moons(noise=0.07)[0], 'Moons', 2)\n",
    "\n",
    "datasets = [\n",
    "  blobs_dataset,\n",
    "  circles_dataset,\n",
    "  moons_dataset,\n",
    "  lines_dataset,\n",
    "]\n",
    "\n",
    "def plt_datasets(datasets, title=None, plotter=Dataset.plot):\n",
    "    fig, axes = plt.subplots(nrows=1,\n",
    "                           ncols=len(datasets),\n",
    "                           figsize=(4*len(datasets), 4))\n",
    "    for (dataset, axis) in zip(datasets, axes):\n",
    "        plotter(dataset, axis)\n",
    "    fig.suptitle(title)\n",
    "    fig.tight_layout()\n",
    "\n",
    "plt_datasets(datasets)"
   ]
  },
  {
   "cell_type": "markdown",
   "metadata": {
    "id": "lM6a-dXX_TPV"
   },
   "source": [
    "## K-Means"
   ]
  },
  {
   "cell_type": "code",
   "execution_count": null,
   "metadata": {
    "cellView": "form",
    "colab": {
     "base_uri": "https://localhost:8080/",
     "height": 302
    },
    "id": "V5ADWg332LkR",
    "outputId": "092f24b4-c222-4c52-f639-58b700c01bd5",
    "pycharm": {
     "is_executing": false
    }
   },
   "outputs": [],
   "source": [
    "#@title K-Means Clusters\n",
    "from sklearn.cluster import KMeans\n",
    "plt_datasets(datasets,\n",
    "             title='K-Means Clusters',\n",
    "             plotter=lambda dataset, axis: dataset.plot_clusters(\n",
    "                 KMeans(n_clusters=dataset.n_clusters), axis))"
   ]
  },
  {
   "cell_type": "markdown",
   "metadata": {
    "id": "aMpXTg7p_Hd9"
   },
   "source": [
    "As we may expect, K-Means works well when its assumptions are followed: the clusters are well separated blobs in Euclidean space. However, that only applies to the first dataset.\n",
    "\n",
    "For the second _Circles_ dataset, you could consider using the kernel K-Means algorithm that you designed on the previous homework, but the _Moons_ and _Lines_ datasets would require challenging kernel functions. What if we could use a different algorithm entirely? How about heirarchical clustering?"
   ]
  },
  {
   "cell_type": "markdown",
   "metadata": {
    "id": "liv16DR5AtyD"
   },
   "source": [
    "## Hierarchical Clustering"
   ]
  },
  {
   "cell_type": "code",
   "execution_count": null,
   "metadata": {
    "cellView": "form",
    "colab": {
     "base_uri": "https://localhost:8080/",
     "height": 302
    },
    "id": "EorJp4Gq_Idx",
    "outputId": "bf6ad66f-2a00-4137-9eb6-7bd9c7a1e1a8",
    "pycharm": {
     "is_executing": false
    }
   },
   "outputs": [],
   "source": [
    "#@title Hierarchical Clustering Clusters\n",
    "from sklearn.cluster import AgglomerativeClustering\n",
    "plt_datasets(datasets,\n",
    "             title='Agglomerated Clusters',\n",
    "             plotter=lambda dataset, axis: dataset.plot_clusters(\n",
    "                 AgglomerativeClustering(linkage='single', n_clusters=dataset.n_clusters),\n",
    "                 axis))"
   ]
  },
  {
   "cell_type": "markdown",
   "metadata": {
    "id": "iizmDuNU02Bb"
   },
   "source": [
    "The results seem much better. The second and third datasets' clustering results are looking pretty good! The fourth one, not so much, but we'll work on that one later.\n",
    "\n",
    "Let's focus in on the details of the second plot to gain an intuition for the algorithm. It'll come in handy when you implement hierarchical clustering in the following sections.\n",
    "\n",
    "Recall that agglomerative clustering successively merges the two \"nearest\" clusters until the desired number of clusters is reached. The following cell plots the algorithm's progress as five clusters are merged into the final two, as well as the resulting *dendrogram*."
   ]
  },
  {
   "cell_type": "code",
   "execution_count": null,
   "metadata": {
    "cellView": "form",
    "colab": {
     "base_uri": "https://localhost:8080/",
     "height": 504
    },
    "id": "Ame7yX56CvNs",
    "outputId": "7a0da7a3-a25f-4e87-8e3f-54a04d8a0af3",
    "pycharm": {
     "is_executing": true
    }
   },
   "outputs": [],
   "source": [
    "#@title Agglomerative clusters\n",
    "import numpy as np\n",
    "from scipy.cluster import hierarchy\n",
    "from sklearn.cluster import AgglomerativeClustering\n",
    "\n",
    "def calc_linkage_matrix(clusterer):\n",
    "    counts = np.zeros(clusterer.children_.shape[0])\n",
    "    n_samples = len(clusterer.labels_)\n",
    "    for i, merge in enumerate(clusterer.children_):\n",
    "        current_count = 0\n",
    "        for child_idx in merge:\n",
    "            if child_idx < n_samples:\n",
    "                current_count += 1  # leaf node\n",
    "            else:\n",
    "                current_count += counts[child_idx - n_samples]\n",
    "        counts[i] = current_count\n",
    "\n",
    "    return np.column_stack(\n",
    "        [clusterer.children_,  clusterer.distances_, counts]).astype(float)\n",
    "\n",
    "clusterer = AgglomerativeClustering(distance_threshold=0.4, n_clusters=None, linkage='single')\n",
    "clusterer.fit(circles_dataset.data)\n",
    "\n",
    "linkage = calc_linkage_matrix(clusterer)\n",
    "\n",
    "trees = hierarchy.cut_tree(linkage, n_clusters=list(range(5, 1, -1)))\n",
    "\n",
    "nrows = 1\n",
    "ncols = trees.shape[1] // nrows\n",
    "fig, axes = plt.subplots(nrows=1,\n",
    "                         ncols=trees.shape[1],\n",
    "                         figsize=(4*trees.shape[1], 4))\n",
    "\n",
    "DENDROGRAM_COLORS = np.array(['g', 'y', 'c', 'm', 'r'])\n",
    "            \n",
    "for i in range(trees.shape[1]):\n",
    "    ax = axes[i]\n",
    "    ax.set_aspect('equal')\n",
    "    ax.scatter(circles_dataset.x, circles_dataset.y, c=DENDROGRAM_COLORS[trees[:, i]])\n",
    "    ax.set_title(f'Clusters with {trees.shape[1] - i - 1} merges remaining')\n",
    "plt.show()\n",
    "\n",
    "hierarchy.dendrogram(linkage, truncate_mode='level', p=8, color_threshold=.28);"
   ]
  },
  {
   "cell_type": "markdown",
   "metadata": {
    "id": "K9u6vgLSSa3J"
   },
   "source": [
    "We see that the central circle is well classified early on: even with 3 merges remaining, the subtree in the dendrogram (green) requires no further merges. However, the outer circle, due to noise and sparsity has three extra clusters.\n",
    "\n",
    "The first of the outer ring's clusters to be merged are red and cyan, which happens because they are the two clusters with points closest together (for some definition of _close_, which we will explore later). Next, yellow and magenta are merged, as we see as the third highest node in the dendrogram. Finally, the (merged) cyan and (merged) yellow clusters are merged, leaving us with the two clusters that we so greatly desire."
   ]
  },
  {
   "cell_type": "markdown",
   "metadata": {
    "id": "6W1ZuGh9r6cF"
   },
   "source": [
    "# Part 2: Implement Hierarchical Clustering"
   ]
  },
  {
   "cell_type": "markdown",
   "metadata": {
    "id": "FZEV0o-asdU4"
   },
   "source": [
    "In this section, you will have the chance to implement both agglomerative and divisive clustering with the given interface. After finishing the implementation, you can verify the correctness of them through the interative demo and comparing the result with sklearn implementation. "
   ]
  },
  {
   "cell_type": "code",
   "execution_count": null,
   "metadata": {
    "id": "4d3nRAA_d_fQ",
    "pycharm": {
     "is_executing": true
    }
   },
   "outputs": [],
   "source": [
    "# import necessary packages\n",
    "import math\n",
    "import numpy as np\n",
    "import matplotlib.pyplot as plt\n",
    "import matplotlib.cm as cm\n",
    "from ipywidgets import interact, IntSlider\n",
    "import ipywidgets as widgets\n",
    "from typing import Dict, Set"
   ]
  },
  {
   "cell_type": "markdown",
   "metadata": {
    "id": "UwMnm-85kxZv"
   },
   "source": [
    "We first provide the _Cluster_ class which represents a single cluster. Each cluster object has its unique cluster id, data points, and information of the closest cluster. We have defined all the attributes and methods of _Cluster_ class for you."
   ]
  },
  {
   "cell_type": "code",
   "execution_count": null,
   "metadata": {
    "id": "ydpd0acAIdv6",
    "pycharm": {
     "is_executing": true
    }
   },
   "outputs": [],
   "source": [
    "class Cluster:\n",
    "    '''\n",
    "\tClass which defines a single cluster\n",
    "\t'''\n",
    "    def __init__(self, cluster_id: int, data_indexes: Set[int]):\n",
    "        '''\n",
    "        Initialize the cluster with unique cluster id and corresponding data currently contained in the cluster\n",
    "        '''\n",
    "        self.id = cluster_id\n",
    "        self.data_indexes = data_indexes\n",
    "        self.min = (-1, np.inf)  # (id, dissimilarity)\n",
    "    \n",
    "    def merge(self, c: \"Cluster\"):\n",
    "        '''\n",
    "        Merges the data indexes in \"c\" into the current cluster\n",
    "        '''\n",
    "        self.data_indexes = self.data_indexes.union(c.data_indexes)\n",
    "\n",
    "    def __len__(self):\n",
    "        return len(self.data_indexes)\n"
   ]
  },
  {
   "cell_type": "markdown",
   "metadata": {
    "id": "3BCIkjSn9N3U"
   },
   "source": [
    "We then define _Clustering_ class which is the base class of agglomerative and divisive clustering algorithms. We have specified the attributes of this class. You need to implement two methods called *add_cluster* and *remove_cluster*."
   ]
  },
  {
   "cell_type": "code",
   "execution_count": null,
   "metadata": {
    "id": "6etcH8Gn9MaQ",
    "pycharm": {
     "is_executing": true
    }
   },
   "outputs": [],
   "source": [
    "class Clustering:\n",
    "    '''\n",
    "\tClass inherited by different hierarchical clustering algorithms\n",
    "\t'''\n",
    "    def __init__(self, data: np.ndarray):\n",
    "        '''\n",
    "        Initialize the clustering algorithm with all data points\n",
    "        '''\n",
    "        self.n_clusters = 0\n",
    "        self.data = data\n",
    "        self.n_data = data.shape[0]\n",
    "        self.clusters: Dict[int, Cluster] = {}  # cluster_id: cluster\n",
    "        self.dissimilarity_table = np.zeros((self.n_data, self.n_data))\n",
    "\n",
    "    def add_cluster(self, cluster: Cluster):\n",
    "        '''\n",
    "        Add a single cluster object to the clustering algorithm\n",
    "        '''\n",
    "        ### Implementation Starts ###\n",
    "        pass\n",
    "        ### Implementation Ends ###\n",
    "\n",
    "    def remove_cluster(self, cluster_id: int):\n",
    "        '''\n",
    "        Remove the cluster that has been merged by another cluster\n",
    "        '''\n",
    "        ### Implementation Starts ###\n",
    "        pass\n",
    "        ### Implementation Ends ###\n"
   ]
  },
  {
   "cell_type": "markdown",
   "metadata": {
    "id": "KdfEjO5gvq4M"
   },
   "source": [
    "For simplicity, assume our data points are all with 2D. Please implement the affinity function and four different types of linkage functions below.  \n",
    "We provide the formulas of affinity and linkage functions here.  \n",
    "- Affinity: $d(x, y)=||x-y||_2$   \n",
    "\n",
    "Assume two clusters $c1=\\{a_1, a_2, \\cdots, a_m\\}; c2=\\{b_1, b_2, \\cdots, b_n\\}$.  \n",
    "- Single linkage: $d(c1,c2)=\\min d(a_i, b_j)\\qquad \\forall i,j$\n",
    "- Complete linkage: $d(c1,c2)=\\max d(a_i, b_j)\\qquad \\forall i,j$\n",
    "- Average linkage: $d(c1,c2)=\\frac{1}{mn} \\sum_{i}\\sum_{j} d(a_i, b_j)$\n",
    "- Ward linkage: $m1=\\frac{1}{m}\\sum_i a_i;\\quad m2=\\frac{1}{n}\\sum_j b_j;\\quad d(c1,c2)=\\frac{mn}{m+n} d(m1, m2)^2$"
   ]
  },
  {
   "cell_type": "code",
   "execution_count": null,
   "metadata": {
    "id": "nlYKhTwWmHDs",
    "pycharm": {
     "is_executing": true
    }
   },
   "outputs": [],
   "source": [
    "def affinity(x, y):\n",
    "    '''\n",
    "    Return the Eclidian distance between two data points x and y (here we assume they are both 2D vector)\n",
    "    '''\n",
    "    ### Implementation Starts ###\n",
    "    pass\n",
    "    ### Implementation Ends ###\n",
    "\n",
    "\n",
    "def single_linkage(c: Clustering, c1: Cluster, c2: Cluster, affinity_func=affinity):\n",
    "    '''\n",
    "    Return the single linkage dissimilarity\n",
    "    '''\n",
    "    ### Implementation Starts ###\n",
    "    pass\n",
    "    ### Implementation Ends ###\n",
    "\n",
    "\n",
    "def complete_linkage(c: Clustering, c1: Cluster, c2: Cluster, affinity_func=affinity):\n",
    "    '''\n",
    "    Return the complete linkage dissimilarity\n",
    "    '''\n",
    "    ### Implementation Starts ###\n",
    "    pass\n",
    "    ### Implementation Ends ###\n",
    "\n",
    "\n",
    "def average_linkage(c: Clustering, c1: Cluster, c2: Cluster, affinity_func=affinity):\n",
    "    '''\n",
    "    Return the average linkage dissimilarity\n",
    "    '''\n",
    "    ### Implementation Starts ###\n",
    "    pass\n",
    "    ### Implementation Ends ###\n",
    "\n",
    "\n",
    "def ward_linkage(c: Clustering, c1: Cluster, c2: Cluster, affinity_func=affinity):\n",
    "    '''\n",
    "    Return the ward linkage dissimilarity\n",
    "    '''\n",
    "    ### Implementation Starts ###\n",
    "    pass\n",
    "    ### Implementation Ends ###\n"
   ]
  },
  {
   "cell_type": "markdown",
   "metadata": {
    "id": "2MZhaEKtVFf8"
   },
   "source": [
    "Use the following code block to check whether your implementation of linkage functions are correct. If you can pass the given cell, your linkage functions are likely to be correct. You may create more test cases by yourself. "
   ]
  },
  {
   "cell_type": "code",
   "execution_count": null,
   "metadata": {
    "id": "dlX5SWAAVOnl",
    "pycharm": {
     "is_executing": true
    }
   },
   "outputs": [],
   "source": [
    "data = np.array([[1, 2], [3, 4], [5, 6], [7, 8]])\n",
    "global_clustering = Clustering(data)\n",
    "cluster1 = Cluster(0, set([0, 1]))\n",
    "cluster2 = Cluster(1, set([2, 3]))\n",
    "assert math.isclose(single_linkage(global_clustering, cluster1, cluster2), 2.8284, abs_tol=1e-4)\n",
    "assert math.isclose(complete_linkage(global_clustering, cluster1, cluster2), 8.4852, abs_tol=1e-4)\n",
    "assert math.isclose(average_linkage(global_clustering, cluster1, cluster2), 5.6568, abs_tol=1e-4)\n",
    "assert math.isclose(ward_linkage(global_clustering, cluster1, cluster2), 32.0000, abs_tol=1e-4)"
   ]
  },
  {
   "cell_type": "markdown",
   "metadata": {
    "id": "ijMUDBYSt3aB"
   },
   "source": [
    "## Impelmentation of Agglomerative Clustering"
   ]
  },
  {
   "cell_type": "markdown",
   "metadata": {
    "id": "YKFnmGvJY2EQ"
   },
   "source": [
    "We will then start to implement the agglomerative clustering algorithm. Fill in the function _find_minimum_pair_ and _merge_update_cluster_ below according to the given instructions. "
   ]
  },
  {
   "cell_type": "code",
   "execution_count": null,
   "metadata": {
    "id": "GCXjxqcEV73H",
    "pycharm": {
     "is_executing": true
    }
   },
   "outputs": [],
   "source": [
    "class AggClustering(Clustering):\n",
    "    def __init__(self, data, linkage_func):\n",
    "        super().__init__(data)\n",
    "        '''\n",
    "        Initialize agglomerative clustering with n separate clusters and initialize the \n",
    "        dissimilarity_table and nearest neighbour of each cluster\n",
    "        '''\n",
    "        self.linkage = linkage_func\n",
    "        for i in range(self.n_data):\n",
    "            self.add_cluster(Cluster(i, {i}))\n",
    "        for i in self.clusters:\n",
    "            for j in self.clusters:\n",
    "                distance = self.linkage(self, self.clusters[i], self.clusters[j])\n",
    "                self.dissimilarity_table[i, j] = distance\n",
    "                if j!=i and distance < self.clusters[i].min[1]:\n",
    "                    self.clusters[i].min = (j, distance)\n",
    "\n",
    "    def find_minimum_pair(self):\n",
    "        '''\n",
    "        Find the pair of cluster with minimum dissimilarity\n",
    "        Hint: you can take advantage of the 'min' attribute of each cluster\n",
    "        ----\n",
    "        Return: cluster_id of two clusters\n",
    "        '''               \n",
    "        ### Implementation Starts ###\n",
    "        pass\n",
    "        ### Implementation Ends ###\n",
    "\n",
    "    def merge_update_cluster(self, target_id: int, victim_id: int):\n",
    "        '''\n",
    "        This function need to deal with three tasks\n",
    "            1. Merge the cluster with id victim_id into the cluster with id target_id\n",
    "            2. Update the dissimilarity matrix elements related to the victim cluster \n",
    "               Hint: change the values to be np.inf\n",
    "            3. Update the closest neighbour of each cluster\n",
    "        '''\n",
    "        ### Implementation Starts ###\n",
    "        pass\n",
    "        ### Implementation Ends ###\n"
   ]
  },
  {
   "cell_type": "code",
   "execution_count": null,
   "metadata": {
    "id": "zEuYcHrJlxKX",
    "pycharm": {
     "is_executing": true
    }
   },
   "outputs": [],
   "source": [
    "# code for interactive demo; no implementation needed\n",
    "def plot_clustering(dataset, assignments):\n",
    "    for i, indexes in assignments.items():\n",
    "        plt.scatter(dataset[list(indexes), 0], dataset[list(indexes), 1])\n",
    "    plt.gca().set_aspect('equal', adjustable='box')\n",
    "    plt.show()\n",
    "\n",
    "\n",
    "def interact_clustering(dataset, logger):\n",
    "    history = list(logger)\n",
    "\n",
    "    def plotter(i):\n",
    "        plot_clustering(dataset, history[i])\n",
    "\n",
    "    interact(plotter, i=IntSlider(min=0, max=len(history) - 1, continuous_update=False))\n"
   ]
  },
  {
   "cell_type": "markdown",
   "metadata": {
    "id": "Q0ZrzlYobZF0"
   },
   "source": [
    "The psudocode of the main loop of Agglomerative clustering is as follows. \n",
    "```\n",
    "for the number of clusters k decreases from n to 1 do\n",
    "    Find the two clusters ci, cj with the smallest dissimilarity according to dissimilarity matrix;\n",
    "    Merge ci with cj and update the dissimilarity matrix;\n",
    "end for\n",
    "```\n",
    "Based on the psudocode, fill in the missing part in the main body of agglomerative clustering: _perform_agglomerative_clustering_ function."
   ]
  },
  {
   "cell_type": "code",
   "execution_count": null,
   "metadata": {
    "id": "bYx-b4rdvjas",
    "pycharm": {
     "is_executing": true
    }
   },
   "outputs": [],
   "source": [
    "def copy_cluster_assignments(clusters):\n",
    "    assignments = {}\n",
    "    for i, cluster in clusters.items():\n",
    "        assignments[i] = cluster.data_indexes.copy()\n",
    "    return assignments\n",
    "\n",
    "def perform_agglomerative_clustering(n_cluster, dataset, linkage_func):\n",
    "    clusters = AggClustering(dataset, linkage_func)\n",
    "    while clusters.n_clusters > n_cluster:\n",
    "        yield copy_cluster_assignments(clusters.clusters)\n",
    "        ### Implementation Starts ###\n",
    "        pass\n",
    "        ### Implementation Ends ###\n",
    "    yield copy_cluster_assignments(clusters.clusters)\n",
    "\n",
    "def final_agglomerative_clustering(n_cluster, dataset, linkage_func):\n",
    "    out = list(perform_agglomerative_clustering(n_cluster, dataset, linkage_func))\n",
    "    return out[-1]"
   ]
  },
  {
   "cell_type": "markdown",
   "metadata": {
    "id": "QIFmW-Rk1zNU"
   },
   "source": [
    "After implementing all the functions above, we can enjoy the following interactive plot. Adjust *num* and *linkage_func* and compare different linkage functions."
   ]
  },
  {
   "cell_type": "code",
   "execution_count": null,
   "metadata": {
    "colab": {
     "base_uri": "https://localhost:8080/",
     "height": 297,
     "referenced_widgets": [
      "f58d50ac00f54d0d982d33383c6db636",
      "4ff81e295ee94167b5fb0dd32cfc40a3",
      "dbfe5c8e7f8e4d84a5c196ff766b4c21",
      "2fe6fc4ba97f495e8f63932c5b5349b8",
      "920f44566e604daf96effa2decba5d1b",
      "94a810e70b2544c18effc3c9fe803d3c",
      "9109f8352cf84194afa8abc971b74f95"
     ]
    },
    "id": "T7Y_0is0lwR8",
    "outputId": "b38f8a6f-8399-49f1-87a0-70e40c382396",
    "pycharm": {
     "is_executing": true
    }
   },
   "outputs": [],
   "source": [
    "num = 10\n",
    "dataset = np.random.rand(num, 2)\n",
    "interact_clustering(dataset, perform_agglomerative_clustering(1, dataset, single_linkage))"
   ]
  },
  {
   "cell_type": "markdown",
   "metadata": {
    "id": "kfpMctrp4tsZ"
   },
   "source": [
    "If you find your implementation work correctly on the above toy examples, you can validate the implementation on larger cases by comparing with Sklearn's Agglomerative Clustering function below. Feel free to try out different number of clusters, linkage functions, etc."
   ]
  },
  {
   "cell_type": "code",
   "execution_count": null,
   "metadata": {
    "colab": {
     "base_uri": "https://localhost:8080/",
     "height": 281
    },
    "id": "_fWy2-pj4-Nl",
    "outputId": "29597222-4f86-46fa-9ea6-a19808dbe827",
    "pycharm": {
     "is_executing": true
    }
   },
   "outputs": [],
   "source": [
    "from sklearn.datasets import make_moons\n",
    "from sklearn.cluster import AgglomerativeClustering\n",
    "# generate dataset\n",
    "moons_dataset = Dataset(make_moons(noise=0.05)[0], 'Moons', 2)\n",
    "dataset = np.vstack((moons_dataset.x, moons_dataset.y)).T\n",
    "\n",
    "linkage_mapping = {'ward': ward_linkage, 'single': single_linkage, 'complete': complete_linkage, 'average': average_linkage}\n",
    "\n",
    "def plot_and_compare(n_clusters, dataset, linkage=\"ward\"):\n",
    "    result = final_agglomerative_clustering(n_clusters, dataset, linkage_mapping[linkage])\n",
    "    labels = AgglomerativeClustering(n_clusters = n_clusters, linkage = linkage).fit(dataset)\n",
    "\n",
    "    def visualize_clusters(axis, data, labels, title):\n",
    "        cluster_labels = set(labels)\n",
    "        for i in cluster_labels:\n",
    "            axis.scatter(data[labels == i][:, 0], data[labels == i][:, 1])\n",
    "        axis.set(title=title)\n",
    "    \n",
    "    def plot_clustering(axis, dataset, assignments, title):\n",
    "        for i, indexes in assignments.items():\n",
    "            axis.scatter(dataset[list(indexes), 0], dataset[list(indexes), 1])\n",
    "        axis.set(title=title)\n",
    "    \n",
    "    \n",
    "    fig, (ax1, ax2) = plt.subplots(nrows=1, ncols=2, figsize=(8, 4))\n",
    "    plot_clustering(ax1, dataset, result, \"Your Implementation\")\n",
    "    visualize_clusters(ax2, dataset, labels.labels_, \"Sklearn Implementation\")\n",
    "    fig.show()\n",
    "\n",
    "# change the n_clusters value and linkage function here to better compare the clustering results\n",
    "plot_and_compare(n_clusters=10, dataset=dataset, linkage=\"average\")"
   ]
  },
  {
   "cell_type": "markdown",
   "metadata": {
    "id": "7rgcY9TwHKq1"
   },
   "source": [
    "Congratulations, you have successfully finished this part."
   ]
  },
  {
   "cell_type": "markdown",
   "metadata": {
    "id": "MA4hBko9F4Lr"
   },
   "source": [
    "## Impelmentation of Divisive Clustering"
   ]
  },
  {
   "cell_type": "markdown",
   "metadata": {
    "id": "ovCcjN1PHG-b"
   },
   "source": [
    "After finishing the agglomerative clustering, it is also a good exercise to implement the divisive clustering. Divisive clustering is a more challenging task compared to the agglomerative one, so we will provide more starter code for you.   \n",
    "As a reference, pseudocode of desired implementation is provided here. Notice that in order to simplify the implementation, when deciding whether an object belongs to the splinter class or the original class, we will not use a while loop to put objects to the splinter class one point at a time, but add all the points with positive delta value to splinter class at once. This will cause differences in outcome when compared with the original algorithm.\n",
    "```\n",
    "for the number of clusters k increases from 1 to n do\n",
    "    Choose the cluster Ci with the largest diameter value;\n",
    "    Within Ci, choose the object that has the maximum distance with the other objects as the splinter cluster;\n",
    "    Split splinter cluster and original cluster;\n",
    "    for each data point j in Ci do\n",
    "        Calculate the distance d1 between the data j and the other objects in Ci as one cluster;\n",
    "        Calculate the distance d2 between the data j and the splinter cluster;\n",
    "        Calculate the difference \\delta dj=d1−d2;\n",
    "    end for\n",
    "    Move the data j with positive \\delta dj to the splinter cluster and update Ci;\n",
    "end for\n",
    "```"
   ]
  },
  {
   "cell_type": "code",
   "execution_count": null,
   "metadata": {
    "id": "0BBqdfZd_eTV",
    "pycharm": {
     "is_executing": true
    }
   },
   "outputs": [],
   "source": [
    "class DivisiveClustering(Clustering):\n",
    "    def __init__(self, data):\n",
    "        '''\n",
    "        Initialize divisive clustering with 1 entire clusters and dissimilarity_table\n",
    "        '''\n",
    "        super().__init__(data)\n",
    "        self.last_index = 2 * self.n_data\n",
    "        self.add_cluster(Cluster(self.last_index, set(range(self.n_data))))\n",
    "        temp_clusters = {}\n",
    "        for i in range(self.n_data):\n",
    "            temp_clusters[i] = Cluster(i, {i})\n",
    "        for i in range(self.n_data):\n",
    "            for j in range(self.n_data):\n",
    "                distance = affinity(self.data[i], self.data[j])\n",
    "                self.dissimilarity_table[i, j] = distance\n",
    "        for i in range(self.n_data):\n",
    "            self.dissimilarity_table[i, i] = 0\n",
    "\n",
    "    def splinter(self):\n",
    "        '''\n",
    "        1. Find the cluster with largest diameter\n",
    "        2. Find the splinter element (point inside the cluster with maximum average distance w.r.t others)\n",
    "        ---\n",
    "        Return: splinter element, max diameter cluster's id\n",
    "        '''\n",
    "        # Find cluster with largest diameter\n",
    "        max_diameter_cluster_id = -1\n",
    "        max_diameter = -np.inf\n",
    "        for id, cluster in self.clusters.items():\n",
    "            ### Implementation Starts ###\n",
    "            pass\n",
    "            ### Implementation Ends ###\n",
    "\n",
    "        max_diameter_cluster = self.clusters[max_diameter_cluster_id]\n",
    "\n",
    "        # Find the splinter element\n",
    "        splinter_element = -1\n",
    "        max_avg_within_cluster_distance = -np.inf\n",
    "        data_indexes = list(max_diameter_cluster.data_indexes)\n",
    "        for pt in data_indexes:\n",
    "            # Calculate the total distance between pt and other points in cluster\n",
    "            ### Implementation Starts ###           \n",
    "            pass\n",
    "            ### Implementation Ends ###\n",
    "            avg_within_cluster_distance = cluster_distance / (len(max_diameter_cluster) - 1)\n",
    "            if avg_within_cluster_distance > max_avg_within_cluster_distance:\n",
    "                splinter_element = pt\n",
    "                max_avg_within_cluster_distance = avg_within_cluster_distance\n",
    "        return splinter_element, max_diameter_cluster_id\n",
    "        \n",
    "\n",
    "    def reassign(self, splinter_element, orig_cluster_key):\n",
    "        '''\n",
    "        1. Judge whether other data points inside the target cluster belongs to splinter group\n",
    "        2. Split the cluster\n",
    "        '''\n",
    "        # Remove the splinter element from the original cluster\n",
    "        temp_new_cluster = Cluster(0, {splinter_element})\n",
    "        self.clusters[orig_cluster_key].data_indexes.remove(splinter_element)\n",
    "        temp_orig_cluster = self.clusters[orig_cluster_key]\n",
    "\n",
    "        # Remove orig cluster from cluster dict\n",
    "        self.remove_cluster(orig_cluster_key)\n",
    "\n",
    "        # Calculate distances d1, d2 and \\delta d for all data points in temp_orig_cluster\n",
    "        ### Implementation Starts ###\n",
    "        pass\n",
    "        ### Implementation Ends ###\n",
    "\n",
    "        # Reassign points\n",
    "        for pt in data_indexes:\n",
    "            if dist_diff[pt] > 0 and len(temp_orig_cluster) > 2:\n",
    "                temp_new_cluster.data_indexes.add(pt)\n",
    "                temp_orig_cluster.data_indexes.remove(pt)\n",
    "\n",
    "        # Add temp clusters to cluster dict\n",
    "        if len(temp_orig_cluster) > 0:\n",
    "            if len(temp_orig_cluster) == 1:\n",
    "                temp_orig_cluster.id = list(temp_orig_cluster.data_indexes)[0]\n",
    "            else:\n",
    "                self.last_index -= 1\n",
    "                temp_orig_cluster.id = self.last_index\n",
    "            self.add_cluster(temp_orig_cluster)\n",
    "\n",
    "        if len(temp_new_cluster) > 0:\n",
    "            if len(temp_new_cluster) == 1:\n",
    "                temp_new_cluster.id = list(temp_new_cluster.data_indexes)[0]\n",
    "            else:\n",
    "                self.last_index -= 1\n",
    "                temp_new_cluster.id = self.last_index\n",
    "            self.add_cluster(temp_new_cluster)\n"
   ]
  },
  {
   "cell_type": "markdown",
   "metadata": {
    "id": "0q9dzWggd2TT"
   },
   "source": [
    "Fill in the missing parts of the main body of divisive clustering."
   ]
  },
  {
   "cell_type": "code",
   "execution_count": null,
   "metadata": {
    "id": "RHmZDLCyqiBN",
    "pycharm": {
     "is_executing": true
    }
   },
   "outputs": [],
   "source": [
    "def perform_divisive_clustering(n_cluster, dataset):\n",
    "    clustering = DivisiveClustering(dataset)\n",
    "    while clustering.n_clusters < n_cluster:\n",
    "        yield copy_cluster_assignments(clustering.clusters)\n",
    "        ### Implementation Starts ###\n",
    "        pass\n",
    "        ### Implementation Ends ###\n",
    "    yield copy_cluster_assignments(clustering.clusters)\n"
   ]
  },
  {
   "cell_type": "code",
   "execution_count": null,
   "metadata": {
    "colab": {
     "base_uri": "https://localhost:8080/",
     "height": 301,
     "referenced_widgets": [
      "b53a2228969e45baa3e9fe1af1b8afd2",
      "0f17e996ad1c45f49ad07722bbb61d35",
      "74edd83ea224430fbc0ef04ecc58c8ec",
      "976a484514124c9ea61fad9e72ebb93c",
      "d25d391d4419421cb57e5430725ab7ef",
      "d23e007606fd4590b737bf9ab3455f57",
      "30275ba567df4dce8abe3cd254d7f02f"
     ]
    },
    "id": "qG7HmGG4rNSw",
    "outputId": "9c83d560-3538-4cf7-a05a-1fac3a5c2de0",
    "pycharm": {
     "is_executing": true
    }
   },
   "outputs": [],
   "source": [
    "num = 10\n",
    "dataset = np.random.rand(num, 2)\n",
    "interact_clustering(dataset, perform_divisive_clustering(8, dataset))"
   ]
  },
  {
   "cell_type": "markdown",
   "metadata": {
    "id": "A7WjlQeqjQxq"
   },
   "source": [
    "# Part 3: Explore Agglomerative Clustering Hyperparameters"
   ]
  },
  {
   "cell_type": "markdown",
   "metadata": {
    "id": "8x4QrChX-KHG"
   },
   "source": [
    "Now you have obtained a better understanding of how agglomerative and divisive clustering works, and you can also see that the time complexity of hierarchical clustering algorithms are quite high. In practical settings, you seldom need to implement the algorithm from scratch. Even when you do that, you will be able to realize a more efficient version of the algorithm with priority queue (a useful data structure that you will soon encounter in the following weeks of CS61B).   \n",
    "In practical cases, you will use Sklearn [Agglomerative Clustering function](https://sklearn.cluster.AgglomerativeClustering) or scipy [linkage function](https://docs.scipy.org/doc/scipy/reference/generated/scipy.cluster.hierarchy.linkage.html). They can both perform agglomerative clustering, but each of them has its own advantage over the other.  Sklearn's AgglomerativeClustering is more convenient to directly visualize final clustering results, while scipy's linkage function is better at demostrating the dendrogram (the linkage process).  \n",
    "In this sections, we will take advantage of sklearn's AgglomerativeClustering to demo various possibilities of setting hyperparameters."
   ]
  },
  {
   "cell_type": "markdown",
   "metadata": {
    "id": "HBYgDry5F_V9"
   },
   "source": [
    "## Tuning linkage function\n",
    "\n",
    "In practical setting, when you wish to apply agglomerative clustering, you need to pick the most approperiate clustering function. As for Sklearn Agglomerative Clustering, choices are single linkage, complete linkage, average linkage, and ward linkage. Different linkage function will be useful for different types/shapes of clusters. For each of the toy examples below, try to cluster them with different linkage functions, state your observation, decide for the most apprioriate linkage function, and explain why you make this choice and the underlying reasons.  "
   ]
  },
  {
   "cell_type": "code",
   "execution_count": null,
   "metadata": {
    "id": "aRKYfswGDvcc",
    "pycharm": {
     "is_executing": true
    }
   },
   "outputs": [],
   "source": [
    "from sklearn.cluster import AgglomerativeClustering"
   ]
  },
  {
   "cell_type": "code",
   "execution_count": null,
   "metadata": {
    "id": "1IKb3_Dm6OQY",
    "pycharm": {
     "is_executing": true
    }
   },
   "outputs": [],
   "source": [
    "def visualize_clusters(data, labels):\n",
    "    cluster_labels = set(labels)\n",
    "    for i in cluster_labels:\n",
    "        plt.scatter(data[labels == i][:, 0], data[labels == i][:, 1])\n",
    "    plt.gca().set_aspect('equal', adjustable='box')"
   ]
  },
  {
   "cell_type": "markdown",
   "metadata": {
    "id": "FMVtnFnmHU2v"
   },
   "source": [
    "**Case 1:**"
   ]
  },
  {
   "cell_type": "code",
   "execution_count": null,
   "metadata": {
    "colab": {
     "base_uri": "https://localhost:8080/",
     "height": 127
    },
    "id": "j5yVzb-0jzyR",
    "outputId": "93a83cab-72d3-4961-90bc-33c389a15a9b",
    "pycharm": {
     "is_executing": true
    }
   },
   "outputs": [],
   "source": [
    "np.random.seed(101)\n",
    "classA = np.random.randn(200, 2) * np.array([[16, 1]]) + np.array([[0, 8]])\n",
    "classB = np.random.randn(200, 2) * np.array([[16, 1]]) + np.array([[0, -8]])\n",
    "data = np.concatenate((classA, classB), axis = 0)\n",
    "plt.scatter(data[:,0], data[:,1])\n",
    "plt.gca().set_aspect('equal', adjustable='box')"
   ]
  },
  {
   "cell_type": "code",
   "execution_count": null,
   "metadata": {
    "colab": {
     "base_uri": "https://localhost:8080/",
     "height": 127
    },
    "id": "Gxb4HZAND_bO",
    "outputId": "e880e30a-8c32-4c9e-8fe0-695d42b716a4",
    "pycharm": {
     "is_executing": true
    }
   },
   "outputs": [],
   "source": [
    "# Fill in *n_cluster* and *linkage* below\n",
    "result = AgglomerativeClustering(n_clusters = pass, linkage = pass).fit(data)\n",
    "visualize_clusters(data, result.labels_)"
   ]
  },
  {
   "cell_type": "markdown",
   "metadata": {
    "id": "pvqYXDv9BAOy"
   },
   "source": [
    "Observation and Explanation Starts Here\n",
    "\n"
   ]
  },
  {
   "cell_type": "markdown",
   "metadata": {
    "id": "f1lisADLHodv"
   },
   "source": [
    "**Case 2:**"
   ]
  },
  {
   "cell_type": "code",
   "execution_count": null,
   "metadata": {
    "colab": {
     "base_uri": "https://localhost:8080/",
     "height": 103
    },
    "id": "CmjezO_hC9M4",
    "outputId": "242e5c83-2712-498c-a47d-f70a998d5f40",
    "pycharm": {
     "is_executing": true
    }
   },
   "outputs": [],
   "source": [
    "np.random.seed(100)\n",
    "data = np.random.multivariate_normal(np.array([0, 0]), np.array([[1, 0], [0, 1]]), 50)\n",
    "for i in range(1, 10):\n",
    "    new_group = np.random.multivariate_normal(np.array([4 * i, 0]), np.array([[1, 0], [0, 1]]), 50)\n",
    "    data = np.concatenate((data, new_group), axis = 0)\n",
    "plt.scatter(data[:,0], data[:,1])\n",
    "plt.gca().set_aspect('equal', adjustable='box');"
   ]
  },
  {
   "cell_type": "code",
   "execution_count": null,
   "metadata": {
    "colab": {
     "base_uri": "https://localhost:8080/",
     "height": 103
    },
    "id": "jHR1MoREVOFr",
    "outputId": "5a7483f2-e8b3-4a2c-df4b-a14db080b8e8",
    "pycharm": {
     "is_executing": true
    }
   },
   "outputs": [],
   "source": [
    "# Fill in *n_cluster* and *linkage* below\n",
    "result = AgglomerativeClustering(n_clusters = pass, linkage = pass).fit(data)\n",
    "visualize_clusters(data, result.labels_)"
   ]
  },
  {
   "cell_type": "markdown",
   "metadata": {
    "id": "zlWa3kGVIdxZ"
   },
   "source": [
    "Observation and Explanation Starts Here  \n"
   ]
  },
  {
   "cell_type": "markdown",
   "metadata": {
    "id": "3UEJTvqiXWRk"
   },
   "source": [
    "Case 3:"
   ]
  },
  {
   "cell_type": "code",
   "execution_count": null,
   "metadata": {
    "colab": {
     "base_uri": "https://localhost:8080/",
     "height": 265
    },
    "id": "xSiEvGFaXYRd",
    "outputId": "66faa6ad-8193-458c-ead5-7fc619e2ae9d",
    "pycharm": {
     "is_executing": true
    }
   },
   "outputs": [],
   "source": [
    "np.random.seed(101)\n",
    "group1 = np.random.multivariate_normal(np.array([0, 0]), np.array([[8, 0], [0, 8]]), 1000)\n",
    "group2 = np.random.multivariate_normal(np.array([8, 8]), np.array([[1, 0], [0, 1]]), 100)\n",
    "data = np.concatenate((group1, group2), axis = 0)\n",
    "plt.scatter(data[:,0], data[:,1]);"
   ]
  },
  {
   "cell_type": "code",
   "execution_count": null,
   "metadata": {
    "colab": {
     "base_uri": "https://localhost:8080/",
     "height": 265
    },
    "id": "8EhLJmw3ZxH4",
    "outputId": "735680cd-82a9-4d4f-df66-2722c710b06e",
    "pycharm": {
     "is_executing": true
    }
   },
   "outputs": [],
   "source": [
    "# Fill in *n_cluster* and *linkage* below\n",
    "result = AgglomerativeClustering(n_clusters = pass, linkage = pass).fit(data)\n",
    "visualize_clusters(data, result.labels_)"
   ]
  },
  {
   "cell_type": "markdown",
   "metadata": {
    "id": "Gnuxnhguma15"
   },
   "source": [
    "Observation and Explanation Starts Here   \n"
   ]
  },
  {
   "cell_type": "markdown",
   "metadata": {
    "id": "k6uX0ajlroWp"
   },
   "source": [
    "## Choose Appropriate Affinity Function\n",
    "\n"
   ]
  },
  {
   "cell_type": "markdown",
   "metadata": {
    "id": "Y7mQuzl-Qnr8"
   },
   "source": [
    "In many cases, the default Euclidean distance function is no longer appropriate in depicting the dissimilarity between two data points. For the following case, image that we wish to cluster the fan-shaped dataset into three equal radian sectors. Explore different affinity metric to achieve the desired result. "
   ]
  },
  {
   "cell_type": "code",
   "execution_count": null,
   "metadata": {
    "colab": {
     "base_uri": "https://localhost:8080/",
     "height": 265
    },
    "id": "1X2IEdZctkd5",
    "outputId": "6fdab3d1-b3ba-423e-eb21-088e12be2d93",
    "pycharm": {
     "is_executing": true
    }
   },
   "outputs": [],
   "source": [
    "from sklearn.datasets import make_classification\n",
    "lines_dataset = Dataset(make_classification(n_features=2, n_redundant=0, random_state=4242)[0], 'Lines', 3)\n",
    "dataset = np.vstack((lines_dataset.x, lines_dataset.y)).T\n",
    "dataset = dataset[dataset[:,0]<2] + [-2, 0]\n",
    "plt.scatter(dataset[:,0], dataset[:,1])\n",
    "plt.gca().set_aspect('equal', adjustable='box');"
   ]
  },
  {
   "cell_type": "code",
   "execution_count": null,
   "metadata": {
    "colab": {
     "base_uri": "https://localhost:8080/",
     "height": 265
    },
    "id": "ryGYEqy3RDYd",
    "outputId": "f3b3517c-031b-4e5b-f4a2-3e4e188dc05e",
    "pycharm": {
     "is_executing": true
    }
   },
   "outputs": [],
   "source": [
    "# Fill in *affinity* below\n",
    "result = AgglomerativeClustering(n_clusters = 3, linkage = 'complete', affinity=pass).fit(dataset)\n",
    "visualize_clusters(dataset, result.labels_)"
   ]
  },
  {
   "cell_type": "markdown",
   "metadata": {
    "id": "qnPgK5OKzgfi"
   },
   "source": [
    "# Part 4: Practical Application"
   ]
  },
  {
   "cell_type": "markdown",
   "metadata": {
    "id": "aFXCPxkWFmG5"
   },
   "source": [
    "Finally, you will have the chance to apply clustering in some more practical settings."
   ]
  },
  {
   "cell_type": "markdown",
   "metadata": {
    "id": "MSI7cO0jFmnL"
   },
   "source": [
    "## How Many Beacons? "
   ]
  },
  {
   "cell_type": "markdown",
   "metadata": {
    "id": "CLneSAhfFsFe"
   },
   "source": [
    "We start with a setting that you are already familiar with in ee16a lectures and labs. In APS lab, you are required to determine the distance between your receiver and different beacons.   \n",
    "Now we change the setting by a little bit. You have collected a bunch of equal length signals, transmitted from an unknown number of beacons. Although you have no idea how each beacon signal looks like, you know that they are different and each received signal only contains one beacon pattern rather than an interleaving of multiple beacon patterns. Received signal from a beacon may be delayed by different timestamps and corrupted with noise.  \n",
    "Load the `signals.pkl` dataset, ignore the `beacon` column which states the ground truth labels, cluster the unlabelled signals using agglomerative clustering, and report the clustering result as well as the number of different beacons.   \n",
    "   \n",
    "Guidelines:\n",
    "You can follow the given steps to solve this problem. Since this is a practical setting problem, we will only provide you with necessary guidelines. Although some steps for solving this task have not been covered in course materials till now, you need to figure out how to realize them by reading function documentations and searhing for related resources online. In real working environment, the ability to read documentation and search for answers are really important.   \n",
    "\n",
    "The guidelines are as follows.\n",
    "- Load the `signals.pkl` dataset as a dataframe\n",
    "- Define appropriate affinity function that correctly measures the similarity between signals \n",
    "- Apply Agglomerative Clustering with **self-defined** affinity definition and scipy linkage function\n",
    "- Draw dendrogram to determine the number of clusters\n",
    "- With the correct number of clusters, run Agglomerative Clustering again and compare the clustering results with ground truth labels\n",
    "- Report your final result: is the clustering result same as the ground truth?\n",
    "\n",
    "\n",
    "Hints and special notice:  \n",
    "- If you have no idea about how to define the similarity or dissimiarilty metric between two signals, you may refer to [EECS16A APS Lab Introduction](https://eecs16a.org/lab/aps1.pdf) to refresh your memory.\n",
    "- Since each signal are with high dimension, the clustering algorithm may need around 7-8 minutes to finish running"
   ]
  },
  {
   "cell_type": "code",
   "execution_count": null,
   "metadata": {
    "colab": {
     "base_uri": "https://localhost:8080/",
     "height": 266
    },
    "id": "Q3CCLfY7M178",
    "outputId": "590f83e7-ba46-466e-e545-1359dd7c3941",
    "pycharm": {
     "is_executing": true
    }
   },
   "outputs": [],
   "source": [
    "import numpy as np\n",
    "import pandas as pd\n",
    "from scipy.cluster.hierarchy import dendrogram, linkage\n",
    "from sklearn.cluster import AgglomerativeClustering\n",
    "\n",
    "### Start Your Code Below ###\n"
   ]
  },
  {
   "cell_type": "markdown",
   "metadata": {
    "id": "Q2rxDYiDM7Ah"
   },
   "source": [
    "## Cluster Analysis of Bike Sharing System\n",
    "\n",
    "In this part of the assignment, you will deal with real-life setting. You are given the citi-bike trip dataset, which records all the user trips in the New York citibike bikesharing system from Jan 1, 2017 to Jan 31, 2017. We hope that you can perform some open-ended clustering analysis for bike stations according to trip patterns.   \n",
    "\n",
    "The requirements are as follows.\n",
    "- The objects for clustering are bike stations.\n",
    "- The analysis process/clustering criteria must involve user behavior or trip patterns. Simply use geographical distance to cluster stations is forbiddened.\n",
    "- You need to do some visualization to confirm your result (e.g. use folium map). The visualization needs to clearly show all the bike station locations, clustering results, and supportive information.\n",
    "- The total time for doing self-exploration is expected to be around 1-2 hours. The exploration process and results should be concisely demonstrated with over 5 cells of code and text explanations (over 50 lines of processing, clustering, and visualization code). We also highly encourge you to explore related researchs."
   ]
  },
  {
   "cell_type": "markdown",
   "metadata": {
    "id": "cp9azQNVFsD8"
   },
   "source": [
    "Before giving you the opportunity to do self exploration, we first gain more intuition about the dataset together."
   ]
  },
  {
   "cell_type": "code",
   "execution_count": null,
   "metadata": {
    "id": "Ykn_BbgjCX0N",
    "pycharm": {
     "is_executing": true
    }
   },
   "outputs": [],
   "source": [
    "import pandas as pd\n",
    "import zipfile\n",
    "import folium\n",
    "from scipy.cluster.hierarchy import dendrogram, linkage\n",
    "from sklearn.cluster import AgglomerativeClustering\n",
    "\n",
    "with zipfile.ZipFile('citibike-tripdata.zip', 'r') as zip_ref:\n",
    "    zip_ref.extractall()\n",
    "\n",
    "trips = pd.read_csv('201701-citibike-tripdata.csv')"
   ]
  },
  {
   "cell_type": "markdown",
   "metadata": {
    "id": "fuxkpo-WJluC"
   },
   "source": [
    "How many records are there in this dataset?  "
   ]
  },
  {
   "cell_type": "code",
   "execution_count": null,
   "metadata": {
    "colab": {
     "base_uri": "https://localhost:8080/"
    },
    "id": "K_ymvsIRJ0V-",
    "outputId": "fbe6e214-45ff-49c9-f7e7-b9f0894880bf",
    "pycharm": {
     "is_executing": true
    }
   },
   "outputs": [],
   "source": [
    "# Write code to answer the question above\n"
   ]
  },
  {
   "cell_type": "code",
   "execution_count": null,
   "metadata": {
    "colab": {
     "base_uri": "https://localhost:8080/",
     "height": 278
    },
    "id": "K9X-Hs4-Ig3t",
    "outputId": "18c39002-642a-4f74-d196-321f1d1e0f2b",
    "pycharm": {
     "is_executing": true
    }
   },
   "outputs": [],
   "source": [
    "trips.head(n=3)"
   ]
  },
  {
   "cell_type": "markdown",
   "metadata": {
    "id": "C1vjtXqZKEoq"
   },
   "source": [
    "By visualizing the first three records of this dataframe, we can see that this dataset records the trip duration (in seconds), trip start time, end time, start station, end station, bike id, whether the use is a subscribed use, user's age, and user's gender (1: male; 2: female). "
   ]
  },
  {
   "cell_type": "markdown",
   "metadata": {
    "id": "4n-qRJdlLtGO"
   },
   "source": [
    "Since we need to do clustering analysis on bike stations, we analyze and visualize station information together. "
   ]
  },
  {
   "cell_type": "code",
   "execution_count": null,
   "metadata": {
    "id": "TYjnJdKMMlhS",
    "pycharm": {
     "is_executing": true
    }
   },
   "outputs": [],
   "source": [
    "# extract the information of stations: containing station ID and the corresponding latitude, longitude\n",
    "start_stations = trips[['Start Station ID', 'Start Station Latitude', 'Start Station Longitude']].rename(columns={\n",
    "    'Start Station ID': 'Station ID', 'Start Station Latitude': 'Latitude', 'Start Station Longitude': 'Longitude'})\n",
    "end_stations = trips[['End Station ID', 'End Station Latitude', 'End Station Longitude']].rename(columns={\n",
    "    'End Station ID': 'Station ID', 'End Station Latitude': 'Latitude', 'End Station Longitude': 'Longitude'})\n",
    "\n",
    "# Start your code here: concat start_stations and end_stations\n",
    "stations = ...\n",
    "# Start your code here: drop duplicates\n",
    "stations = ..."
   ]
  },
  {
   "cell_type": "markdown",
   "metadata": {
    "id": "JWD1A0SKNfiP"
   },
   "source": [
    "Let's visualize station together."
   ]
  },
  {
   "cell_type": "code",
   "execution_count": null,
   "metadata": {
    "colab": {
     "base_uri": "https://localhost:8080/",
     "height": 723
    },
    "id": "9sb0IM32NU4f",
    "outputId": "49d680bb-3713-4148-e138-ad9f3ffe7438",
    "pycharm": {
     "is_executing": true
    }
   },
   "outputs": [],
   "source": [
    "map = folium.Map(location=[40.7, -73.9], zoom_start=12)\n",
    "for index, row in stations.iterrows():\n",
    "    folium.Circle(row[['Latitude', 'Longitude']].tolist(), \n",
    "                  popup=str(int(row['Station ID'])), radius=0.1).add_to(map)\n",
    "map"
   ]
  },
  {
   "cell_type": "markdown",
   "metadata": {
    "id": "qMatHFqXPL44"
   },
   "source": [
    "Zoom in and out the resulting foilum map. What do you notice? Are there any abnormal stations? What are their station ID?  \n",
    "Answer:   \n",
    "Let's then sort the dataframe by lat/lon values and filter out all outliers."
   ]
  },
  {
   "cell_type": "code",
   "execution_count": null,
   "metadata": {
    "colab": {
     "base_uri": "https://localhost:8080/",
     "height": 419
    },
    "id": "HSzD3jJbVfdX",
    "outputId": "078f78b3-7b2b-430e-a279-41f18a36fd8b",
    "pycharm": {
     "is_executing": true
    }
   },
   "outputs": [],
   "source": [
    "stations.sort_values(by=...)"
   ]
  },
  {
   "cell_type": "code",
   "execution_count": null,
   "metadata": {
    "id": "hJSQD5jDPj5t",
    "pycharm": {
     "is_executing": true
    }
   },
   "outputs": [],
   "source": [
    "# Start your code here: remove these outliers and corresponding trips in trips\n",
    "stations = ...\n",
    "trips = ..."
   ]
  },
  {
   "cell_type": "markdown",
   "metadata": {
    "id": "_eT4cj-gVAvT"
   },
   "source": [
    "Make sure that you have done everything correctly till this stage"
   ]
  },
  {
   "cell_type": "code",
   "execution_count": null,
   "metadata": {
    "id": "Us7MWIGwVAKO",
    "pycharm": {
     "is_executing": true
    }
   },
   "outputs": [],
   "source": [
    "assert stations.shape[0] == 605\n",
    "assert trips.shape[0] == 726454"
   ]
  },
  {
   "cell_type": "markdown",
   "metadata": {
    "id": "wpGLojwZMJ-l"
   },
   "source": [
    "Then you can start your free exploration!"
   ]
  },
  {
   "cell_type": "markdown",
   "metadata": {
    "id": "YVoUVlu5wKAq"
   },
   "source": [
    "State the objective for you analysis here.  \n",
    "**Objective Starts Here**  \n",
    "...\n"
   ]
  },
  {
   "cell_type": "markdown",
   "metadata": {
    "id": "PsAKBaGNY-7C"
   },
   "source": [
    "Congratulations! You have finished this homework. Now you are familiar with hierarchical clustering and the corresponding applications. You will get to know more clustering algorithm in other topics of this week. "
   ]
  },
  {
   "cell_type": "markdown",
   "metadata": {
    "id": "khIDgQS6rnyx"
   },
   "source": [
    "# References:"
   ]
  },
  {
   "cell_type": "markdown",
   "metadata": {
    "id": "8v5uMYbV5I1e"
   },
   "source": [
    "Bikesharing dataset: https://www.kaggle.com/andytran11996/citibike-dataset-2017?select=201701-citibike-tripdata.csv  "
   ]
  }
 ],
 "metadata": {
  "colab": {
   "collapsed_sections": [],
   "name": "[main branch] hierarchical_clustering_solutions.ipynb",
   "provenance": [],
   "toc_visible": true
  },
  "kernelspec": {
   "display_name": "Python 3",
   "language": "python",
   "name": "python3"
  },
  "language_info": {
   "codemirror_mode": {
    "name": "ipython",
    "version": 3
   },
   "file_extension": ".py",
   "mimetype": "text/x-python",
   "name": "python",
   "nbconvert_exporter": "python",
   "pygments_lexer": "ipython3",
   "version": "3.7.7"
  },
  "widgets": {
   "application/vnd.jupyter.widget-state+json": {
    "0f17e996ad1c45f49ad07722bbb61d35": {
     "model_module": "@jupyter-widgets/base",
     "model_name": "LayoutModel",
     "state": {
      "_model_module": "@jupyter-widgets/base",
      "_model_module_version": "1.2.0",
      "_model_name": "LayoutModel",
      "_view_count": null,
      "_view_module": "@jupyter-widgets/base",
      "_view_module_version": "1.2.0",
      "_view_name": "LayoutView",
      "align_content": null,
      "align_items": null,
      "align_self": null,
      "border": null,
      "bottom": null,
      "display": null,
      "flex": null,
      "flex_flow": null,
      "grid_area": null,
      "grid_auto_columns": null,
      "grid_auto_flow": null,
      "grid_auto_rows": null,
      "grid_column": null,
      "grid_gap": null,
      "grid_row": null,
      "grid_template_areas": null,
      "grid_template_columns": null,
      "grid_template_rows": null,
      "height": null,
      "justify_content": null,
      "justify_items": null,
      "left": null,
      "margin": null,
      "max_height": null,
      "max_width": null,
      "min_height": null,
      "min_width": null,
      "object_fit": null,
      "object_position": null,
      "order": null,
      "overflow": null,
      "overflow_x": null,
      "overflow_y": null,
      "padding": null,
      "right": null,
      "top": null,
      "visibility": null,
      "width": null
     }
    },
    "2fe6fc4ba97f495e8f63932c5b5349b8": {
     "model_module": "@jupyter-widgets/output",
     "model_name": "OutputModel",
     "state": {
      "_dom_classes": [],
      "_model_module": "@jupyter-widgets/output",
      "_model_module_version": "1.0.0",
      "_model_name": "OutputModel",
      "_view_count": null,
      "_view_module": "@jupyter-widgets/output",
      "_view_module_version": "1.0.0",
      "_view_name": "OutputView",
      "layout": "IPY_MODEL_9109f8352cf84194afa8abc971b74f95",
      "msg_id": "",
      "outputs": [
       {
        "image/png": "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\n",
        "metadata": {
         "needs_background": "light",
         "tags": []
        },
        "output_type": "display_data",
        "text/plain": "<Figure size 432x288 with 1 Axes>"
       }
      ]
     }
    },
    "30275ba567df4dce8abe3cd254d7f02f": {
     "model_module": "@jupyter-widgets/base",
     "model_name": "LayoutModel",
     "state": {
      "_model_module": "@jupyter-widgets/base",
      "_model_module_version": "1.2.0",
      "_model_name": "LayoutModel",
      "_view_count": null,
      "_view_module": "@jupyter-widgets/base",
      "_view_module_version": "1.2.0",
      "_view_name": "LayoutView",
      "align_content": null,
      "align_items": null,
      "align_self": null,
      "border": null,
      "bottom": null,
      "display": null,
      "flex": null,
      "flex_flow": null,
      "grid_area": null,
      "grid_auto_columns": null,
      "grid_auto_flow": null,
      "grid_auto_rows": null,
      "grid_column": null,
      "grid_gap": null,
      "grid_row": null,
      "grid_template_areas": null,
      "grid_template_columns": null,
      "grid_template_rows": null,
      "height": null,
      "justify_content": null,
      "justify_items": null,
      "left": null,
      "margin": null,
      "max_height": null,
      "max_width": null,
      "min_height": null,
      "min_width": null,
      "object_fit": null,
      "object_position": null,
      "order": null,
      "overflow": null,
      "overflow_x": null,
      "overflow_y": null,
      "padding": null,
      "right": null,
      "top": null,
      "visibility": null,
      "width": null
     }
    },
    "4ff81e295ee94167b5fb0dd32cfc40a3": {
     "model_module": "@jupyter-widgets/base",
     "model_name": "LayoutModel",
     "state": {
      "_model_module": "@jupyter-widgets/base",
      "_model_module_version": "1.2.0",
      "_model_name": "LayoutModel",
      "_view_count": null,
      "_view_module": "@jupyter-widgets/base",
      "_view_module_version": "1.2.0",
      "_view_name": "LayoutView",
      "align_content": null,
      "align_items": null,
      "align_self": null,
      "border": null,
      "bottom": null,
      "display": null,
      "flex": null,
      "flex_flow": null,
      "grid_area": null,
      "grid_auto_columns": null,
      "grid_auto_flow": null,
      "grid_auto_rows": null,
      "grid_column": null,
      "grid_gap": null,
      "grid_row": null,
      "grid_template_areas": null,
      "grid_template_columns": null,
      "grid_template_rows": null,
      "height": null,
      "justify_content": null,
      "justify_items": null,
      "left": null,
      "margin": null,
      "max_height": null,
      "max_width": null,
      "min_height": null,
      "min_width": null,
      "object_fit": null,
      "object_position": null,
      "order": null,
      "overflow": null,
      "overflow_x": null,
      "overflow_y": null,
      "padding": null,
      "right": null,
      "top": null,
      "visibility": null,
      "width": null
     }
    },
    "74edd83ea224430fbc0ef04ecc58c8ec": {
     "model_module": "@jupyter-widgets/controls",
     "model_name": "IntSliderModel",
     "state": {
      "_dom_classes": [],
      "_model_module": "@jupyter-widgets/controls",
      "_model_module_version": "1.5.0",
      "_model_name": "IntSliderModel",
      "_view_count": null,
      "_view_module": "@jupyter-widgets/controls",
      "_view_module_version": "1.5.0",
      "_view_name": "IntSliderView",
      "continuous_update": false,
      "description": "i",
      "description_tooltip": null,
      "disabled": false,
      "layout": "IPY_MODEL_d23e007606fd4590b737bf9ab3455f57",
      "max": 7,
      "min": 0,
      "orientation": "horizontal",
      "readout": true,
      "readout_format": "d",
      "step": 1,
      "style": "IPY_MODEL_d25d391d4419421cb57e5430725ab7ef",
      "value": 7
     }
    },
    "9109f8352cf84194afa8abc971b74f95": {
     "model_module": "@jupyter-widgets/base",
     "model_name": "LayoutModel",
     "state": {
      "_model_module": "@jupyter-widgets/base",
      "_model_module_version": "1.2.0",
      "_model_name": "LayoutModel",
      "_view_count": null,
      "_view_module": "@jupyter-widgets/base",
      "_view_module_version": "1.2.0",
      "_view_name": "LayoutView",
      "align_content": null,
      "align_items": null,
      "align_self": null,
      "border": null,
      "bottom": null,
      "display": null,
      "flex": null,
      "flex_flow": null,
      "grid_area": null,
      "grid_auto_columns": null,
      "grid_auto_flow": null,
      "grid_auto_rows": null,
      "grid_column": null,
      "grid_gap": null,
      "grid_row": null,
      "grid_template_areas": null,
      "grid_template_columns": null,
      "grid_template_rows": null,
      "height": null,
      "justify_content": null,
      "justify_items": null,
      "left": null,
      "margin": null,
      "max_height": null,
      "max_width": null,
      "min_height": null,
      "min_width": null,
      "object_fit": null,
      "object_position": null,
      "order": null,
      "overflow": null,
      "overflow_x": null,
      "overflow_y": null,
      "padding": null,
      "right": null,
      "top": null,
      "visibility": null,
      "width": null
     }
    },
    "920f44566e604daf96effa2decba5d1b": {
     "model_module": "@jupyter-widgets/controls",
     "model_name": "SliderStyleModel",
     "state": {
      "_model_module": "@jupyter-widgets/controls",
      "_model_module_version": "1.5.0",
      "_model_name": "SliderStyleModel",
      "_view_count": null,
      "_view_module": "@jupyter-widgets/base",
      "_view_module_version": "1.2.0",
      "_view_name": "StyleView",
      "description_width": "",
      "handle_color": null
     }
    },
    "94a810e70b2544c18effc3c9fe803d3c": {
     "model_module": "@jupyter-widgets/base",
     "model_name": "LayoutModel",
     "state": {
      "_model_module": "@jupyter-widgets/base",
      "_model_module_version": "1.2.0",
      "_model_name": "LayoutModel",
      "_view_count": null,
      "_view_module": "@jupyter-widgets/base",
      "_view_module_version": "1.2.0",
      "_view_name": "LayoutView",
      "align_content": null,
      "align_items": null,
      "align_self": null,
      "border": null,
      "bottom": null,
      "display": null,
      "flex": null,
      "flex_flow": null,
      "grid_area": null,
      "grid_auto_columns": null,
      "grid_auto_flow": null,
      "grid_auto_rows": null,
      "grid_column": null,
      "grid_gap": null,
      "grid_row": null,
      "grid_template_areas": null,
      "grid_template_columns": null,
      "grid_template_rows": null,
      "height": null,
      "justify_content": null,
      "justify_items": null,
      "left": null,
      "margin": null,
      "max_height": null,
      "max_width": null,
      "min_height": null,
      "min_width": null,
      "object_fit": null,
      "object_position": null,
      "order": null,
      "overflow": null,
      "overflow_x": null,
      "overflow_y": null,
      "padding": null,
      "right": null,
      "top": null,
      "visibility": null,
      "width": null
     }
    },
    "976a484514124c9ea61fad9e72ebb93c": {
     "model_module": "@jupyter-widgets/output",
     "model_name": "OutputModel",
     "state": {
      "_dom_classes": [],
      "_model_module": "@jupyter-widgets/output",
      "_model_module_version": "1.0.0",
      "_model_name": "OutputModel",
      "_view_count": null,
      "_view_module": "@jupyter-widgets/output",
      "_view_module_version": "1.0.0",
      "_view_name": "OutputView",
      "layout": "IPY_MODEL_30275ba567df4dce8abe3cd254d7f02f",
      "msg_id": "",
      "outputs": [
       {
        "image/png": "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\n",
        "metadata": {
         "needs_background": "light",
         "tags": []
        },
        "output_type": "display_data",
        "text/plain": "<Figure size 432x288 with 1 Axes>"
       }
      ]
     }
    },
    "b53a2228969e45baa3e9fe1af1b8afd2": {
     "model_module": "@jupyter-widgets/controls",
     "model_name": "VBoxModel",
     "state": {
      "_dom_classes": [
       "widget-interact"
      ],
      "_model_module": "@jupyter-widgets/controls",
      "_model_module_version": "1.5.0",
      "_model_name": "VBoxModel",
      "_view_count": null,
      "_view_module": "@jupyter-widgets/controls",
      "_view_module_version": "1.5.0",
      "_view_name": "VBoxView",
      "box_style": "",
      "children": [
       "IPY_MODEL_74edd83ea224430fbc0ef04ecc58c8ec",
       "IPY_MODEL_976a484514124c9ea61fad9e72ebb93c"
      ],
      "layout": "IPY_MODEL_0f17e996ad1c45f49ad07722bbb61d35"
     }
    },
    "d23e007606fd4590b737bf9ab3455f57": {
     "model_module": "@jupyter-widgets/base",
     "model_name": "LayoutModel",
     "state": {
      "_model_module": "@jupyter-widgets/base",
      "_model_module_version": "1.2.0",
      "_model_name": "LayoutModel",
      "_view_count": null,
      "_view_module": "@jupyter-widgets/base",
      "_view_module_version": "1.2.0",
      "_view_name": "LayoutView",
      "align_content": null,
      "align_items": null,
      "align_self": null,
      "border": null,
      "bottom": null,
      "display": null,
      "flex": null,
      "flex_flow": null,
      "grid_area": null,
      "grid_auto_columns": null,
      "grid_auto_flow": null,
      "grid_auto_rows": null,
      "grid_column": null,
      "grid_gap": null,
      "grid_row": null,
      "grid_template_areas": null,
      "grid_template_columns": null,
      "grid_template_rows": null,
      "height": null,
      "justify_content": null,
      "justify_items": null,
      "left": null,
      "margin": null,
      "max_height": null,
      "max_width": null,
      "min_height": null,
      "min_width": null,
      "object_fit": null,
      "object_position": null,
      "order": null,
      "overflow": null,
      "overflow_x": null,
      "overflow_y": null,
      "padding": null,
      "right": null,
      "top": null,
      "visibility": null,
      "width": null
     }
    },
    "d25d391d4419421cb57e5430725ab7ef": {
     "model_module": "@jupyter-widgets/controls",
     "model_name": "SliderStyleModel",
     "state": {
      "_model_module": "@jupyter-widgets/controls",
      "_model_module_version": "1.5.0",
      "_model_name": "SliderStyleModel",
      "_view_count": null,
      "_view_module": "@jupyter-widgets/base",
      "_view_module_version": "1.2.0",
      "_view_name": "StyleView",
      "description_width": "",
      "handle_color": null
     }
    },
    "dbfe5c8e7f8e4d84a5c196ff766b4c21": {
     "model_module": "@jupyter-widgets/controls",
     "model_name": "IntSliderModel",
     "state": {
      "_dom_classes": [],
      "_model_module": "@jupyter-widgets/controls",
      "_model_module_version": "1.5.0",
      "_model_name": "IntSliderModel",
      "_view_count": null,
      "_view_module": "@jupyter-widgets/controls",
      "_view_module_version": "1.5.0",
      "_view_name": "IntSliderView",
      "continuous_update": false,
      "description": "i",
      "description_tooltip": null,
      "disabled": false,
      "layout": "IPY_MODEL_94a810e70b2544c18effc3c9fe803d3c",
      "max": 9,
      "min": 0,
      "orientation": "horizontal",
      "readout": true,
      "readout_format": "d",
      "step": 1,
      "style": "IPY_MODEL_920f44566e604daf96effa2decba5d1b",
      "value": 0
     }
    },
    "f58d50ac00f54d0d982d33383c6db636": {
     "model_module": "@jupyter-widgets/controls",
     "model_name": "VBoxModel",
     "state": {
      "_dom_classes": [
       "widget-interact"
      ],
      "_model_module": "@jupyter-widgets/controls",
      "_model_module_version": "1.5.0",
      "_model_name": "VBoxModel",
      "_view_count": null,
      "_view_module": "@jupyter-widgets/controls",
      "_view_module_version": "1.5.0",
      "_view_name": "VBoxView",
      "box_style": "",
      "children": [
       "IPY_MODEL_dbfe5c8e7f8e4d84a5c196ff766b4c21",
       "IPY_MODEL_2fe6fc4ba97f495e8f63932c5b5349b8"
      ],
      "layout": "IPY_MODEL_4ff81e295ee94167b5fb0dd32cfc40a3"
     }
    }
   }
  }
 },
 "nbformat": 4,
 "nbformat_minor": 1
}
